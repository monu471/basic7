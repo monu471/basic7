{
 "cells": [
  {
   "cell_type": "markdown",
   "id": "4b48bae6",
   "metadata": {},
   "source": [
    "### 1. What is the name of the feature responsible for generating Regex objects?"
   ]
  },
  {
   "cell_type": "markdown",
   "id": "d20b7e2b",
   "metadata": {},
   "source": [
    "\n",
    "The feature responsible for generating Regex objects in Python is the \"re\" module. The \"re\" module is part of the Python standard library and provides functions and methods for working with regular expressions. It allows you to create Regex objects, which are used to perform pattern matching and manipulation on string"
   ]
  },
  {
   "cell_type": "markdown",
   "id": "8bad04b9",
   "metadata": {},
   "source": [
    "### 2. Why do raw strings often appear in Regex objects?"
   ]
  },
  {
   "cell_type": "markdown",
   "id": "e89ae6d8",
   "metadata": {},
   "source": [
    "Raw strings, denoted by the prefix \"r\" before the string literal, are often used in Regex objects to avoid unwanted interpretation or escaping of special characters. In regular expressions, there are several special characters such as backslashes (\\), which have special meanings and are used to define regex patterns.\n",
    "\n",
    "By using raw strings, backslashes and other special characters are treated as literal characters, and their special meanings are ignored. This is useful because regular expressions often contain many backslashes and special characters, and using raw strings makes it easier to write and read regex patterns without the need for excessive escaping."
   ]
  },
  {
   "cell_type": "markdown",
   "id": "91954eaf",
   "metadata": {},
   "source": [
    "### 3. What is the return value of the search() method? "
   ]
  },
  {
   "cell_type": "markdown",
   "id": "92b13bee",
   "metadata": {},
   "source": [
    "The search() method of a Regex object in Python returns a match object if a match is found, and None if no match is found."
   ]
  },
  {
   "cell_type": "code",
   "execution_count": 1,
   "id": "02e4317e",
   "metadata": {},
   "outputs": [
    {
     "name": "stdout",
     "output_type": "stream",
     "text": [
      "Match found: world\n"
     ]
    }
   ],
   "source": [
    "import re\n",
    "\n",
    "pattern = r\"world\"\n",
    "text = \"Hello, world!\"\n",
    "\n",
    "match = re.search(pattern, text)\n",
    "if match:\n",
    "    print(\"Match found:\", match.group())\n",
    "else:\n",
    "    print(\"No match.\")\n"
   ]
  },
  {
   "cell_type": "markdown",
   "id": "ff4810cb",
   "metadata": {},
   "source": [
    "### 4. From a Match item, how do you get the actual strings that match the pattern?"
   ]
  },
  {
   "cell_type": "markdown",
   "id": "9d89534f",
   "metadata": {},
   "source": [
    "To get the actual strings that match the pattern from a Match object in Python, you can use the group() method. The group() method is used to retrieve the matched substring(s) based on the capturing groups defined in the regular expression pattern."
   ]
  },
  {
   "cell_type": "code",
   "execution_count": 3,
   "id": "0e04bcc0",
   "metadata": {},
   "outputs": [
    {
     "name": "stdout",
     "output_type": "stream",
     "text": [
      "Full match: 15-05-2023\n",
      "Day: 15\n",
      "Month: 05\n",
      "Year: 2023\n"
     ]
    }
   ],
   "source": [
    "import re\n",
    "\n",
    "pattern = r\"(\\d{2})-(\\d{2})-(\\d{4})\"\n",
    "text = \"Date: 15-05-2023\"\n",
    "\n",
    "match = re.search(pattern, text)\n",
    "if match:\n",
    "    print(\"Full match:\", match.group(0))\n",
    "    print(\"Day:\", match.group(1))\n",
    "    print(\"Month:\", match.group(2))\n",
    "    print(\"Year:\", match.group(3))\n",
    "else:\n",
    "    print(\"No match.\")\n"
   ]
  },
  {
   "cell_type": "markdown",
   "id": "900824cb",
   "metadata": {},
   "source": [
    "### 5. In the regex which created from the r&#39;(\\d\\d\\d)-(\\d\\d\\d-\\d\\d\\d\\d);, what does group zero cover?Group 2? Group 1?"
   ]
  },
  {
   "cell_type": "code",
   "execution_count": 4,
   "id": "6f89d5ff",
   "metadata": {},
   "outputs": [
    {
     "name": "stdout",
     "output_type": "stream",
     "text": [
      "Full match: 123-456-7890\n",
      "Group 1: 123\n",
      "Group 2: 456-7890\n"
     ]
    }
   ],
   "source": [
    "import re\n",
    "\n",
    "pattern = r'(\\d\\d\\d)-(\\d\\d\\d-\\d\\d\\d\\d)'\n",
    "text = 'Phone number: 123-456-7890'\n",
    "\n",
    "match = re.search(pattern, text)\n",
    "if match:\n",
    "    print('Full match:', match.group(0))\n",
    "    print('Group 1:', match.group(1))\n",
    "    print('Group 2:', match.group(2))\n",
    "else:\n",
    "    print('No match.')\n"
   ]
  },
  {
   "cell_type": "code",
   "execution_count": null,
   "id": "5cc15cf7",
   "metadata": {},
   "outputs": [],
   "source": []
  }
 ],
 "metadata": {
  "kernelspec": {
   "display_name": "Python 3 (ipykernel)",
   "language": "python",
   "name": "python3"
  },
  "language_info": {
   "codemirror_mode": {
    "name": "ipython",
    "version": 3
   },
   "file_extension": ".py",
   "mimetype": "text/x-python",
   "name": "python",
   "nbconvert_exporter": "python",
   "pygments_lexer": "ipython3",
   "version": "3.10.9"
  }
 },
 "nbformat": 4,
 "nbformat_minor": 5
}
